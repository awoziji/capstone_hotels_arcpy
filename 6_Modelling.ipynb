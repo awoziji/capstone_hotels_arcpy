{
 "cells": [
  {
   "cell_type": "markdown",
   "metadata": {},
   "source": [
    "# Machine Learning - Modelling\n",
    "\n",
    "We will implement the following ML models for predicting the hotel room price:\n",
    "\n",
    "- Linear Model: Elastic Net\n",
    "- Tree modelling: XGBoost\n",
    "\n",
    "For that we will use the fetaure engineered dataset, which has been treated to avoid multicollinearity as well as skewness. We will split the dataset in a 70-30 for cross validation.\n",
    "\n",
    "Remeber that some of the features (the binary ones) are really imbalanced so need to consider that when doing our analysis."
   ]
  },
  {
   "cell_type": "code",
   "execution_count": 3,
   "metadata": {},
   "outputs": [],
   "source": [
    "#%reset"
   ]
  },
  {
   "cell_type": "code",
   "execution_count": 2,
   "metadata": {},
   "outputs": [],
   "source": [
    "import pandas as pd\n",
    "pd.set_option('display.max_columns', None)\n",
    "import numpy as np\n",
    "from scipy.special import inv_boxcox\n",
    "from matplotlib import pyplot as plt\n",
    "%matplotlib inline\n",
    "import seaborn as sns\n",
    "\n",
    "#General purpose tools\n",
    "from sklearn.model_selection import GridSearchCV\n",
    "from sklearn.model_selection import train_test_split\n",
    "from sklearn.feature_selection import SelectFromModel\n",
    "from sklearn.metrics import mean_squared_error\n",
    "\n",
    "#Different models\n",
    "\n",
    "from sklearn.linear_model import ElasticNet\n",
    "from sklearn.linear_model import ElasticNetCV\n",
    "from sklearn.linear_model import LassoCV\n",
    "from sklearn.ensemble import RandomForestRegressor\n",
    "from xgboost import XGBRegressor\n",
    "import xgboost as xgboost"
   ]
  },
  {
   "cell_type": "markdown",
   "metadata": {},
   "source": [
    "### Getting the data ready\n",
    "\n",
    "We will split the data in training and test set following a 70-30 proportion."
   ]
  },
  {
   "cell_type": "code",
   "execution_count": null,
   "metadata": {},
   "outputs": [],
   "source": [
    "hotels.to_csv()"
   ]
  },
  {
   "cell_type": "code",
   "execution_count": 3,
   "metadata": {},
   "outputs": [
    {
     "data": {
      "text/html": [
       "<div>\n",
       "<style scoped>\n",
       "    .dataframe tbody tr th:only-of-type {\n",
       "        vertical-align: middle;\n",
       "    }\n",
       "\n",
       "    .dataframe tbody tr th {\n",
       "        vertical-align: top;\n",
       "    }\n",
       "\n",
       "    .dataframe thead th {\n",
       "        text-align: right;\n",
       "    }\n",
       "</style>\n",
       "<table border=\"1\" class=\"dataframe\">\n",
       "  <thead>\n",
       "    <tr style=\"text-align: right;\">\n",
       "      <th></th>\n",
       "      <th>Average_Household_Size</th>\n",
       "      <th>Purchasing_Power_Capita</th>\n",
       "      <th>Total_Population</th>\n",
       "      <th>Total_Reviews</th>\n",
       "      <th>Ranking_Users</th>\n",
       "      <th>Hotel_stars</th>\n",
       "      <th>Housing_Transactions</th>\n",
       "      <th>Median_House_Price</th>\n",
       "      <th>Total_Airbnb_Beds</th>\n",
       "      <th>Median_Airbnb_Price</th>\n",
       "      <th>Total_Restaurants</th>\n",
       "      <th>Median_Restaurant_Ranking</th>\n",
       "      <th>Heathrow</th>\n",
       "      <th>Stansted</th>\n",
       "      <th>Gatwick</th>\n",
       "      <th>City Airport</th>\n",
       "      <th>Tourist_POIs</th>\n",
       "      <th>Business_POIs</th>\n",
       "      <th>Gym</th>\n",
       "      <th>Internet</th>\n",
       "      <th>AC</th>\n",
       "      <th>Parking</th>\n",
       "      <th>Pool</th>\n",
       "      <th>Room_Service</th>\n",
       "      <th>BoxCoxPrice</th>\n",
       "    </tr>\n",
       "  </thead>\n",
       "  <tbody>\n",
       "    <tr>\n",
       "      <th>0</th>\n",
       "      <td>1.029619</td>\n",
       "      <td>0.518931</td>\n",
       "      <td>0.065763</td>\n",
       "      <td>7.597396</td>\n",
       "      <td>-1.584253</td>\n",
       "      <td>5.0</td>\n",
       "      <td>0.823362</td>\n",
       "      <td>13.790194</td>\n",
       "      <td>0.217042</td>\n",
       "      <td>0.417710</td>\n",
       "      <td>5.231109</td>\n",
       "      <td>-0.189167</td>\n",
       "      <td>50</td>\n",
       "      <td>73</td>\n",
       "      <td>60</td>\n",
       "      <td>44</td>\n",
       "      <td>3.277145</td>\n",
       "      <td>3.091042</td>\n",
       "      <td>1.0</td>\n",
       "      <td>1.0</td>\n",
       "      <td>1.0</td>\n",
       "      <td>0.0</td>\n",
       "      <td>0.0</td>\n",
       "      <td>1.0</td>\n",
       "      <td>2.867086</td>\n",
       "    </tr>\n",
       "    <tr>\n",
       "      <th>1</th>\n",
       "      <td>1.064711</td>\n",
       "      <td>1.502037</td>\n",
       "      <td>-0.546826</td>\n",
       "      <td>6.846943</td>\n",
       "      <td>-0.977880</td>\n",
       "      <td>5.0</td>\n",
       "      <td>0.236269</td>\n",
       "      <td>14.226958</td>\n",
       "      <td>-0.224972</td>\n",
       "      <td>1.678382</td>\n",
       "      <td>5.017280</td>\n",
       "      <td>0.103751</td>\n",
       "      <td>45</td>\n",
       "      <td>72</td>\n",
       "      <td>45</td>\n",
       "      <td>42</td>\n",
       "      <td>3.332205</td>\n",
       "      <td>3.218876</td>\n",
       "      <td>1.0</td>\n",
       "      <td>1.0</td>\n",
       "      <td>1.0</td>\n",
       "      <td>0.0</td>\n",
       "      <td>0.0</td>\n",
       "      <td>1.0</td>\n",
       "      <td>2.873022</td>\n",
       "    </tr>\n",
       "    <tr>\n",
       "      <th>2</th>\n",
       "      <td>1.252763</td>\n",
       "      <td>-1.358257</td>\n",
       "      <td>0.215960</td>\n",
       "      <td>8.496990</td>\n",
       "      <td>-1.011197</td>\n",
       "      <td>4.0</td>\n",
       "      <td>-1.294364</td>\n",
       "      <td>13.476537</td>\n",
       "      <td>0.238430</td>\n",
       "      <td>-0.816699</td>\n",
       "      <td>5.030438</td>\n",
       "      <td>-0.673626</td>\n",
       "      <td>63</td>\n",
       "      <td>59</td>\n",
       "      <td>55</td>\n",
       "      <td>34</td>\n",
       "      <td>3.113515</td>\n",
       "      <td>3.020425</td>\n",
       "      <td>0.0</td>\n",
       "      <td>1.0</td>\n",
       "      <td>1.0</td>\n",
       "      <td>0.0</td>\n",
       "      <td>0.0</td>\n",
       "      <td>0.0</td>\n",
       "      <td>2.754949</td>\n",
       "    </tr>\n",
       "    <tr>\n",
       "      <th>3</th>\n",
       "      <td>1.064711</td>\n",
       "      <td>-1.135153</td>\n",
       "      <td>-1.050201</td>\n",
       "      <td>8.364042</td>\n",
       "      <td>-1.307720</td>\n",
       "      <td>5.0</td>\n",
       "      <td>-1.483072</td>\n",
       "      <td>14.042647</td>\n",
       "      <td>-1.027015</td>\n",
       "      <td>-1.105603</td>\n",
       "      <td>4.276666</td>\n",
       "      <td>-0.165794</td>\n",
       "      <td>67</td>\n",
       "      <td>78</td>\n",
       "      <td>50</td>\n",
       "      <td>36</td>\n",
       "      <td>3.191847</td>\n",
       "      <td>2.833213</td>\n",
       "      <td>1.0</td>\n",
       "      <td>1.0</td>\n",
       "      <td>1.0</td>\n",
       "      <td>0.0</td>\n",
       "      <td>0.0</td>\n",
       "      <td>1.0</td>\n",
       "      <td>2.890451</td>\n",
       "    </tr>\n",
       "    <tr>\n",
       "      <th>4</th>\n",
       "      <td>1.252763</td>\n",
       "      <td>0.401883</td>\n",
       "      <td>-1.866201</td>\n",
       "      <td>8.554296</td>\n",
       "      <td>-1.031187</td>\n",
       "      <td>5.0</td>\n",
       "      <td>-1.420169</td>\n",
       "      <td>13.955273</td>\n",
       "      <td>-0.706198</td>\n",
       "      <td>2.466303</td>\n",
       "      <td>4.941642</td>\n",
       "      <td>-0.850133</td>\n",
       "      <td>62</td>\n",
       "      <td>78</td>\n",
       "      <td>52</td>\n",
       "      <td>37</td>\n",
       "      <td>3.106080</td>\n",
       "      <td>2.862201</td>\n",
       "      <td>1.0</td>\n",
       "      <td>1.0</td>\n",
       "      <td>1.0</td>\n",
       "      <td>0.0</td>\n",
       "      <td>0.0</td>\n",
       "      <td>1.0</td>\n",
       "      <td>2.815390</td>\n",
       "    </tr>\n",
       "  </tbody>\n",
       "</table>\n",
       "</div>"
      ],
      "text/plain": [
       "   Average_Household_Size  Purchasing_Power_Capita  Total_Population  \\\n",
       "0                1.029619                 0.518931          0.065763   \n",
       "1                1.064711                 1.502037         -0.546826   \n",
       "2                1.252763                -1.358257          0.215960   \n",
       "3                1.064711                -1.135153         -1.050201   \n",
       "4                1.252763                 0.401883         -1.866201   \n",
       "\n",
       "   Total_Reviews  Ranking_Users  Hotel_stars  Housing_Transactions  \\\n",
       "0       7.597396      -1.584253          5.0              0.823362   \n",
       "1       6.846943      -0.977880          5.0              0.236269   \n",
       "2       8.496990      -1.011197          4.0             -1.294364   \n",
       "3       8.364042      -1.307720          5.0             -1.483072   \n",
       "4       8.554296      -1.031187          5.0             -1.420169   \n",
       "\n",
       "   Median_House_Price  Total_Airbnb_Beds  Median_Airbnb_Price  \\\n",
       "0           13.790194           0.217042             0.417710   \n",
       "1           14.226958          -0.224972             1.678382   \n",
       "2           13.476537           0.238430            -0.816699   \n",
       "3           14.042647          -1.027015            -1.105603   \n",
       "4           13.955273          -0.706198             2.466303   \n",
       "\n",
       "   Total_Restaurants  Median_Restaurant_Ranking  Heathrow  Stansted  Gatwick  \\\n",
       "0           5.231109                  -0.189167        50        73       60   \n",
       "1           5.017280                   0.103751        45        72       45   \n",
       "2           5.030438                  -0.673626        63        59       55   \n",
       "3           4.276666                  -0.165794        67        78       50   \n",
       "4           4.941642                  -0.850133        62        78       52   \n",
       "\n",
       "   City Airport  Tourist_POIs  Business_POIs  Gym  Internet   AC  Parking  \\\n",
       "0            44      3.277145       3.091042  1.0       1.0  1.0      0.0   \n",
       "1            42      3.332205       3.218876  1.0       1.0  1.0      0.0   \n",
       "2            34      3.113515       3.020425  0.0       1.0  1.0      0.0   \n",
       "3            36      3.191847       2.833213  1.0       1.0  1.0      0.0   \n",
       "4            37      3.106080       2.862201  1.0       1.0  1.0      0.0   \n",
       "\n",
       "   Pool  Room_Service  BoxCoxPrice  \n",
       "0   0.0           1.0     2.867086  \n",
       "1   0.0           1.0     2.873022  \n",
       "2   0.0           0.0     2.754949  \n",
       "3   0.0           1.0     2.890451  \n",
       "4   0.0           1.0     2.815390  "
      ]
     },
     "execution_count": 3,
     "metadata": {},
     "output_type": "execute_result"
    }
   ],
   "source": [
    "#We split the data in train and test datasets\n",
    "hotels = pd.read_csv('./Data/hotels_for_modelling.csv') #this df has the original index we will need\n",
    "hotels_modelling = hotels.drop(labels=['Unnamed: 0', 'Index','Price_Night_USD','logPrice', 'Latitude', 'Longitude'], axis=1)\n",
    "hotels_modelling.head()"
   ]
  },
  {
   "cell_type": "code",
   "execution_count": 4,
   "metadata": {},
   "outputs": [
    {
     "name": "stdout",
     "output_type": "stream",
     "text": [
      "Hotels train: (592, 24)\n",
      "Hotels test: (254, 24)\n",
      "Hotels Y train: (592,)\n",
      "Hotels Y test: (254,)\n"
     ]
    }
   ],
   "source": [
    "#Defining the target variable and splitting the data\n",
    "hotels_y = hotels_modelling['BoxCoxPrice']\n",
    "hotels_X = hotels_modelling.drop(labels='BoxCoxPrice', axis=1)\n",
    "hotels_train, hotels_test, hotels_y_train, hotels_y_test = train_test_split(hotels_X, hotels_y, test_size=0.3, random_state=42)\n",
    "\n",
    "# we check the size of the samples\n",
    "print('Hotels train: ' + str(hotels_train.shape))\n",
    "print('Hotels test: ' + str(hotels_test.shape))\n",
    "print('Hotels Y train: ' + str(hotels_y_train.shape))\n",
    "print('Hotels Y test: ' + str(hotels_y_test.shape))"
   ]
  },
  {
   "cell_type": "code",
   "execution_count": 262,
   "metadata": {},
   "outputs": [
    {
     "data": {
      "text/plain": [
       "300    5.476464\n",
       "73     5.700444\n",
       "586    5.655992\n",
       "753    4.442651\n",
       "405    4.304065\n",
       "Name: logPrice, dtype: float64"
      ]
     },
     "execution_count": 262,
     "metadata": {},
     "output_type": "execute_result"
    }
   ],
   "source": [
    "hotels_y_train.head()"
   ]
  },
  {
   "cell_type": "markdown",
   "metadata": {},
   "source": [
    "# Linear Modelling: Elastic Net"
   ]
  },
  {
   "cell_type": "code",
   "execution_count": 271,
   "metadata": {},
   "outputs": [
    {
     "name": "stdout",
     "output_type": "stream",
     "text": [
      "Wall time: 1min 46s\n"
     ]
    },
    {
     "data": {
      "text/plain": [
       "GridSearchCV(cv=10, error_score='raise',\n",
       "       estimator=ElasticNet(alpha=1.0, copy_X=True, fit_intercept=True, l1_ratio=0.5,\n",
       "      max_iter=1000, normalize=False, positive=False, precompute=False,\n",
       "      random_state=None, selection='cyclic', tol=0.0001, warm_start=False),\n",
       "       fit_params=None, iid=True, n_jobs=1,\n",
       "       param_grid=[{'alpha': [1e-05, 0.0001, 0.001, 0.01, 0.05, 0.1, 0.3, 1, 3, 5, 10, 15, 30, 50, 75], 'l1_ratio': [0.4, 0.5, 0.75, 0.85, 0.9, 0.95, 0.99], 'tol': array([1.00000e-03, 9.28572e-04, 8.57143e-04, 7.85715e-04, 7.14286e-04,\n",
       "       6.42857e-04, 5.71429e-04, 5.00000e-04, 4.28572e-04, 3.57144e-04,\n",
       "       2.85715e-04, 2.14287e-04, 1.42858e-04, 7.14295e-05, 1.00000e-09])}],\n",
       "       pre_dispatch='2*n_jobs', refit=True, return_train_score='warn',\n",
       "       scoring=None, verbose=0)"
      ]
     },
     "execution_count": 271,
     "metadata": {},
     "output_type": "execute_result"
    }
   ],
   "source": [
    "elastic_search = ElasticNet()\n",
    "\n",
    "grid_parameters_elastic = [{'alpha': [0.00001,0.0001,0.001,0.01,0.05, 0.1, 0.3, 1, 3, 5, 10, 15, 30, 50, 75],\n",
    "                    'l1_ratio': [0.4,0.5,0.75,0.85,0.9,0.95,0.99], #we ommit the 1 cos would be same as Lasso\n",
    "                   'tol':np.linspace(start=0.001, stop=1e-9, num=15)}]\n",
    "\n",
    "grid_search_elastic = GridSearchCV(elastic_search, grid_parameters_elastic, cv=10)\n",
    "\n",
    "%time grid_search_elastic.fit(hotels_train, hotels_y_train)"
   ]
  },
  {
   "cell_type": "code",
   "execution_count": 272,
   "metadata": {},
   "outputs": [
    {
     "name": "stdout",
     "output_type": "stream",
     "text": [
      "{'alpha': 0.0001, 'l1_ratio': 0.99, 'tol': 0.001}\n",
      "0.8238467029382434\n"
     ]
    }
   ],
   "source": [
    "#Best parameters for the model\n",
    "print(grid_search_elastic.best_params_)\n",
    "#Best scores\n",
    "print(grid_search_elastic.best_score_)"
   ]
  },
  {
   "cell_type": "markdown",
   "metadata": {},
   "source": [
    "We apply these best parameters to our best model"
   ]
  },
  {
   "cell_type": "code",
   "execution_count": 294,
   "metadata": {},
   "outputs": [
    {
     "name": "stdout",
     "output_type": "stream",
     "text": [
      "<bound method RegressorMixin.score of ElasticNet(alpha=0.0001, copy_X=True, fit_intercept=True, l1_ratio=0.99,\n",
      "      max_iter=1000, normalize=False, positive=False, precompute=False,\n",
      "      random_state=None, selection='cyclic', tol=0.001, warm_start=False)>\n"
     ]
    }
   ],
   "source": [
    "#Lets run the model with the best parameters and make the prediction\n",
    "elastic = ElasticNet(alpha=0.0001,l1_ratio=0.99,tol=0.001)\n",
    "elastic_model = elastic.fit(hotels_train, hotels_y_train)\n",
    "\n",
    "###\n",
    "# Predictions for test and train for CV\n",
    "###\n",
    "\n",
    "#The number is the lambda that we calculated when doing the BoxCox transformation\n",
    "\n",
    "#note that we do the exp to undo the log function\n",
    "elastic_y_train_pred = pd.DataFrame(inv_boxcox(elastic_model.predict(hotels_train),-0.27145002), columns=['BoxCoxPrice'])\n",
    "elastic_y_test_pred = pd.DataFrame(inv_boxcox(elastic_model.predict(hotels_test),-0.27145002), columns=['BoxCoxPrice'])\n",
    "\n",
    "#Scores\n",
    "print(elastic_model.score)"
   ]
  },
  {
   "cell_type": "markdown",
   "metadata": {},
   "source": [
    "**Model Performance**"
   ]
  },
  {
   "cell_type": "code",
   "execution_count": 296,
   "metadata": {
    "scrolled": true
   },
   "outputs": [
    {
     "name": "stdout",
     "output_type": "stream",
     "text": [
      "RMSE for train data: $45.1\n",
      "RMSE for test data: $47.8\n"
     ]
    }
   ],
   "source": [
    "#MSE and RMSE calculations, first we put the TRUE values (the ones calulcated from the predicted model on train data).\n",
    "# NOTE!! Make sure you transform also hotels_y_train before comapring both otherwise we will be comparing pear and apples!!\n",
    "\n",
    "rmse_elastic_train = np.sqrt(mean_squared_error((inv_boxcox(hotels_y_train,-0.27145002)), elastic_y_train_pred))\n",
    "rmse_elastic_test = np.sqrt(mean_squared_error((inv_boxcox(hotels_y_test,-0.27145002)), elastic_y_test_pred))\n",
    "\n",
    "print(\"RMSE for train data: $%.1f\" % round(rmse_elastic_train, 1))\n",
    "print(\"RMSE for test data: $%.1f\" % round(rmse_elastic_test, 1))"
   ]
  },
  {
   "cell_type": "markdown",
   "metadata": {},
   "source": [
    "**Features importances in the model**"
   ]
  },
  {
   "cell_type": "code",
   "execution_count": 297,
   "metadata": {},
   "outputs": [
    {
     "data": {
      "text/plain": [
       "[(0.048317788838505155, 'Hotel_stars'),\n",
       " (0.04291470199382812, 'Room_Service'),\n",
       " (0.03979670508394076, 'Pool'),\n",
       " (0.03607827222468207, 'Median_House_Price'),\n",
       " (0.022228836489477842, 'Internet'),\n",
       " (0.01566701506221697, 'Parking'),\n",
       " (0.01294365104116651, 'Total_Restaurants'),\n",
       " (0.005117795555568546, 'Median_Airbnb_Price'),\n",
       " (0.00454517497516222, 'Total_Airbnb_Beds'),\n",
       " (0.003672676715108912, 'AC'),\n",
       " (0.0008019421811702006, 'City Airport'),\n",
       " (-0.0, 'Average_Household_Size'),\n",
       " (-0.00011777202750449662, 'Heathrow'),\n",
       " (-0.0009400020261067035, 'Stansted'),\n",
       " (-0.0009733514539884572, 'Gatwick'),\n",
       " (-0.0020875423073572347, 'Gym'),\n",
       " (-0.0020965167080008035, 'Business_POIs'),\n",
       " (-0.0028926996074681885, 'Purchasing_Power_Capita'),\n",
       " (-0.0029329622891998393, 'Total_Population'),\n",
       " (-0.0048863540797104065, 'Housing_Transactions'),\n",
       " (-0.007375214369039398, 'Median_Restaurant_Ranking'),\n",
       " (-0.014963529907548994, 'Total_Reviews'),\n",
       " (-0.046155966004743365, 'Ranking_Users'),\n",
       " (-0.11263948616825649, 'Tourist_POIs')]"
      ]
     },
     "execution_count": 297,
     "metadata": {},
     "output_type": "execute_result"
    }
   ],
   "source": [
    "importances_elastic = elastic_model.coef_\n",
    "sorted(list(zip(importances_elastic, hotels_train.columns.tolist())), key=lambda x: x[0], reverse=True)"
   ]
  },
  {
   "cell_type": "markdown",
   "metadata": {},
   "source": [
    "# Regression Tree: Random Forest"
   ]
  },
  {
   "cell_type": "code",
   "execution_count": null,
   "metadata": {},
   "outputs": [],
   "source": [
    "#CAUTION: TAKES LONGv to RUN (>8min)\n",
    "randomForest = RandomForestRegressor() \n",
    "\n",
    "#We create a set of parameters for teh grid search, from these parameters we will be selecting the best ones for our model\n",
    "grid_para_forest = [{\n",
    "    'criterion':['mse'],\n",
    "    'n_estimators': [25, 50, 100,500,1000],\n",
    "    'min_samples_leaf': range(5, 20),\n",
    "    #'max_features':['log2','sqrt', 'auto'],\n",
    "    'min_samples_split': np.linspace(start=2, stop=30, num=15, dtype=int),\n",
    "    }]\n",
    "\n",
    "#Once parameters are selected we pass them to the model\n",
    "grid_search_forest = GridSearchCV(randomForest, grid_para_forest, cv=10)\n",
    "\n",
    "#we fit the model\n",
    "%time grid_search_forest.fit(hotels_train, hotels_y_train)"
   ]
  },
  {
   "cell_type": "code",
   "execution_count": null,
   "metadata": {},
   "outputs": [],
   "source": [
    "#Best parameters for the model\n",
    "print(grid_search_forest.best_params_)\n",
    "#Best scores\n",
    "print(grid_search_forest.best_score_)"
   ]
  },
  {
   "cell_type": "code",
   "execution_count": null,
   "metadata": {},
   "outputs": [],
   "source": [
    "#Here we use the parameters set by the GridSearch\n",
    "forest = RandomForestRegressor(n_estimators=500, #num of trees run\n",
    "                               max_features = 'sqrt',\n",
    "                                oob_score=True,\n",
    "                                min_samples_leaf=5, #minimum number of features in each tree\n",
    "                               min_samples_split= 8)\n",
    "\n",
    "#we fit the model\n",
    "forest_model = forest.fit(hotels_train, hotels_y_train)\n",
    "\n",
    "####\n",
    "# Predictions\n",
    "####\n",
    "rf_y_train_pred = pd.DataFrame(inv_boxcox(forest_model.predict(hotels_train),-0.27145002), columns=['BoxCoxPrice'])\n",
    "rf_y_test_pred = pd.DataFrame(inv_boxcox(forest_model.predict(hotels_test),-0.27145002), columns=['BoxCoxPrice'])\n",
    "\n",
    "\n",
    "#Scores\n",
    "print(forest_model.score)"
   ]
  },
  {
   "cell_type": "code",
   "execution_count": null,
   "metadata": {},
   "outputs": [],
   "source": [
    "#MSE and RMSE calculations, first we put the TRUE values (the ones calulcated from the predicted model on train data).\n",
    "# NOTE!! Make sure you transform also hotels_y_train before comapring both otherwise we will be comparing pear and apples!!\n",
    "\n",
    "rmse_rf_train = np.sqrt(mean_squared_error((inv_boxcox(hotels_y_train,-0.27145002)), rf_y_train_pred))\n",
    "rmse_rf_test = np.sqrt(mean_squared_error((inv_boxcox(hotels_y_test,-0.27145002)), rf_y_test_pred))\n",
    "\n",
    "print(\"RMSE for train data: $%.1f\" % round(rmse_rf_train, 1))\n",
    "print(\"RMSE for test data: $%.1f\" % round(rmse_rf_test, 1))"
   ]
  },
  {
   "cell_type": "markdown",
   "metadata": {},
   "source": [
    "# Regression Tree: XGBoost"
   ]
  },
  {
   "cell_type": "code",
   "execution_count": 9,
   "metadata": {},
   "outputs": [
    {
     "name": "stdout",
     "output_type": "stream",
     "text": [
      "Wall time: 21.8 s\n"
     ]
    },
    {
     "data": {
      "text/plain": [
       "GridSearchCV(cv=10, error_score='raise',\n",
       "       estimator=XGBRegressor(base_score=0.5, booster='gbtree', colsample_bylevel=1,\n",
       "       colsample_bytree=1, gamma=0, learning_rate=0.1, max_delta_step=0,\n",
       "       max_depth=3, min_child_weight=1, missing=None, n_estimators=100,\n",
       "       n_jobs=1, nthread=None, objective='reg:linear', random_state=0,\n",
       "       reg_alpha=0, reg_lambda=1, scale_pos_weight=1, seed=None,\n",
       "       silent=True, subsample=1),\n",
       "       fit_params=None, iid=True, n_jobs=1,\n",
       "       param_grid=[{'learning_rate': [0.01, 0.1, 0.2, 0.25, 0.4, 0.5], 'max_depth': [3, 4, 5, 6, 7]}],\n",
       "       pre_dispatch='2*n_jobs', refit=True, return_train_score='warn',\n",
       "       scoring=None, verbose=0)"
      ]
     },
     "execution_count": 9,
     "metadata": {},
     "output_type": "execute_result"
    }
   ],
   "source": [
    "#CAUTION: TAKES LONGv to RUN (>40min)\n",
    "XGBoost = XGBRegressor()\n",
    "\n",
    "#Parameters for XG Boost\n",
    "grid_para_xgboost = [{\n",
    "        'learning_rate': [0.01,0.1,0.2,0.25,0.4,0.5],\n",
    "        #'min_child_weight': [1,3, 5,7 ,10],\n",
    "        #'gamma': [0.25,0.5, 1, 1.5, 2, 5],\n",
    "        #'subsample': [0.4,0.6, 0.8, 1.0],\n",
    "        #'colsample_bytree': [0.4,0.6, 0.8, 1.0],\n",
    "        'max_depth': [3, 4, 5,6,7],\n",
    "        }]\n",
    "\n",
    "#Once parameters are selected we pass them to the model\n",
    "grid_search_xgboost = GridSearchCV(XGBoost, grid_para_xgboost, cv=10)\n",
    "\n",
    "#we fit the model\n",
    "%time grid_search_xgboost.fit(hotels_train, hotels_y_train)"
   ]
  },
  {
   "cell_type": "code",
   "execution_count": 10,
   "metadata": {},
   "outputs": [
    {
     "data": {
      "text/plain": [
       "XGBRegressor(base_score=0.5, booster='gbtree', colsample_bylevel=1,\n",
       "       colsample_bytree=1, gamma=0, learning_rate=0.2, max_delta_step=0,\n",
       "       max_depth=3, min_child_weight=1, missing=None, n_estimators=100,\n",
       "       n_jobs=1, nthread=None, objective='reg:linear', random_state=0,\n",
       "       reg_alpha=0, reg_lambda=1, scale_pos_weight=1, seed=None,\n",
       "       silent=True, subsample=1)"
      ]
     },
     "execution_count": 10,
     "metadata": {},
     "output_type": "execute_result"
    }
   ],
   "source": [
    "XGBoost.set_params(**grid_search_xgboost.best_params_)"
   ]
  },
  {
   "cell_type": "code",
   "execution_count": 11,
   "metadata": {},
   "outputs": [
    {
     "name": "stdout",
     "output_type": "stream",
     "text": [
      "{'learning_rate': 0.2, 'max_depth': 3}\n",
      "0.8032377133182895\n"
     ]
    }
   ],
   "source": [
    "#Best parameters for the model\n",
    "print(grid_search_xgboost.best_params_)\n",
    "#Best scores\n",
    "print(grid_search_xgboost.best_score_)"
   ]
  },
  {
   "cell_type": "code",
   "execution_count": 10,
   "metadata": {},
   "outputs": [],
   "source": [
    "#Here we use the parameters set by the GridSearch\n",
    "xgboost = XGBRegressor(learning_rate= 0.25)\n",
    "#xgboost = XGBRegressor()\n",
    "xgboost_model = xgboost.fit(hotels_train, hotels_y_train)\n",
    "\n",
    "####\n",
    "# Predictions\n",
    "####\n",
    "\n",
    "xgboost_train_pred = pd.DataFrame(inv_boxcox(xgboost_model.predict(hotels_train),-0.27145002), columns=['BoxCoxPrice'])\n",
    "xgboost_test_pred = pd.DataFrame(inv_boxcox(xgboost_model.predict(hotels_test),-0.27145002), columns=['BoxCoxPrice'])"
   ]
  },
  {
   "cell_type": "code",
   "execution_count": 11,
   "metadata": {},
   "outputs": [
    {
     "name": "stdout",
     "output_type": "stream",
     "text": [
      "RMSE for train data: $20.5\n",
      "RMSE for test data: $45.9\n"
     ]
    }
   ],
   "source": [
    "##### MSE and RMSE calculations, first we put the TRUE values (the ones calulcated from the predicted model on train data).\n",
    "# NOTE!! Make sure you transform also hotels_y_train before comapring both otherwise we will be comparing pear and apples!!\n",
    "\n",
    "xgboost_train = np.sqrt(mean_squared_error((inv_boxcox(hotels_y_train,-0.27145002)), xgboost_train_pred))\n",
    "xgboost_test = np.sqrt(mean_squared_error((inv_boxcox(hotels_y_test,-0.27145002)), xgboost_test_pred))\n",
    "\n",
    "print(\"RMSE for train data: $%.1f\" % round(xgboost_train, 1))\n",
    "print(\"RMSE for test data: $%.1f\" % round(xgboost_test, 1))"
   ]
  },
  {
   "cell_type": "markdown",
   "metadata": {},
   "source": [
    "### Visualization of results"
   ]
  },
  {
   "cell_type": "markdown",
   "metadata": {},
   "source": [
    "**Variable importance**"
   ]
  },
  {
   "cell_type": "code",
   "execution_count": 85,
   "metadata": {},
   "outputs": [
    {
     "data": {
      "text/html": [
       "<div>\n",
       "<style scoped>\n",
       "    .dataframe tbody tr th:only-of-type {\n",
       "        vertical-align: middle;\n",
       "    }\n",
       "\n",
       "    .dataframe tbody tr th {\n",
       "        vertical-align: top;\n",
       "    }\n",
       "\n",
       "    .dataframe thead th {\n",
       "        text-align: right;\n",
       "    }\n",
       "</style>\n",
       "<table border=\"1\" class=\"dataframe\">\n",
       "  <thead>\n",
       "    <tr style=\"text-align: right;\">\n",
       "      <th></th>\n",
       "      <th>feature</th>\n",
       "      <th>importance</th>\n",
       "    </tr>\n",
       "  </thead>\n",
       "  <tbody>\n",
       "    <tr>\n",
       "      <th>3</th>\n",
       "      <td>Total_Reviews</td>\n",
       "      <td>0.132686</td>\n",
       "    </tr>\n",
       "    <tr>\n",
       "      <th>4</th>\n",
       "      <td>Ranking_Users</td>\n",
       "      <td>0.103560</td>\n",
       "    </tr>\n",
       "    <tr>\n",
       "      <th>6</th>\n",
       "      <td>Housing_Transactions</td>\n",
       "      <td>0.076052</td>\n",
       "    </tr>\n",
       "    <tr>\n",
       "      <th>2</th>\n",
       "      <td>Total_Population</td>\n",
       "      <td>0.069579</td>\n",
       "    </tr>\n",
       "    <tr>\n",
       "      <th>1</th>\n",
       "      <td>Purchasing_Power_Capita</td>\n",
       "      <td>0.067961</td>\n",
       "    </tr>\n",
       "  </tbody>\n",
       "</table>\n",
       "</div>"
      ],
      "text/plain": [
       "                   feature  importance\n",
       "3            Total_Reviews    0.132686\n",
       "4            Ranking_Users    0.103560\n",
       "6     Housing_Transactions    0.076052\n",
       "2         Total_Population    0.069579\n",
       "1  Purchasing_Power_Capita    0.067961"
      ]
     },
     "execution_count": 85,
     "metadata": {},
     "output_type": "execute_result"
    }
   ],
   "source": [
    "feature_importance = list(zip(hotels_train.columns, xgboost_model.feature_importances_))\n",
    "feature_importance = pd.DataFrame(feature_importance,columns = ['feature','importance']).sort_values('importance', ascending =False)\n",
    "feature_importance.head()"
   ]
  },
  {
   "cell_type": "code",
   "execution_count": 108,
   "metadata": {},
   "outputs": [
    {
     "data": {
      "text/plain": [
       "Text(0,0.5,'Features')"
      ]
     },
     "execution_count": 108,
     "metadata": {},
     "output_type": "execute_result"
    },
    {
     "data": {
      "image/png": "[encoded data removed]",
      "text/plain": [
       "<Figure size 1440x1296 with 1 Axes>"
      ]
     },
     "metadata": {},
     "output_type": "display_data"
    }
   ],
   "source": [
    "plt.figure(figsize=(20,18))\n",
    "#sns.palplot(sns.color_palette(\"RdGy\", 10))\n",
    "sns.barplot(x='importance', y='feature', data=feature_importance, palette= sns.color_palette(\"RdGy\", 25))\n",
    "plt.xlabel(\"Importance\")\n",
    "plt.ylabel(\"Features\")"
   ]
  },
  {
   "cell_type": "markdown",
   "metadata": {},
   "source": [
    "**Actual vs Predicted values plot** "
   ]
  },
  {
   "cell_type": "code",
   "execution_count": 55,
   "metadata": {},
   "outputs": [
    {
     "data": {
      "text/plain": [
       "Text(0,0.5,'Actual')"
      ]
     },
     "execution_count": 55,
     "metadata": {},
     "output_type": "execute_result"
    },
    {
     "data": {
      "image/png": "[encoded data removed]",
      "text/plain": [
       "<Figure size 720x576 with 1 Axes>"
      ]
     },
     "metadata": {},
     "output_type": "display_data"
    }
   ],
   "source": [
    "plt.figure(figsize=(10,8))\n",
    "plt.scatter(xgboost_train_pred, inv_boxcox(hotels_y_train,-0.27145002), alpha=.1, color='#E30613')\n",
    "plt.plot(np.linspace(0,700,1000), np.linspace(0,700,1000), color='k', linewidth=0.4)\n",
    "plt.xlabel(\"Predicted\")\n",
    "plt.ylabel(\"Actual\")"
   ]
  },
  {
   "cell_type": "markdown",
   "metadata": {},
   "source": [
    "**Residual plot**"
   ]
  },
  {
   "cell_type": "code",
   "execution_count": 76,
   "metadata": {},
   "outputs": [
    {
     "data": {
      "text/plain": [
       "Text(0,0.5,'Residual')"
      ]
     },
     "execution_count": 76,
     "metadata": {},
     "output_type": "execute_result"
    },
    {
     "data": {
      "image/png": "[encoded data removed]",
      "text/plain": [
       "<Figure size 720x576 with 1 Axes>"
      ]
     },
     "metadata": {},
     "output_type": "display_data"
    }
   ],
   "source": [
    "plt.figure(figsize=(10,8))\n",
    "plt.scatter(inv_boxcox(xgboost_model.predict(hotels_train),-0.27145002), inv_boxcox(hotels_y_train,-0.27145002) - inv_boxcox(xgboost_model.predict(hotels_train),-0.27145002), alpha=.2, color='#E30613')\n",
    "plt.plot(np.linspace(0,800,1000), np.linspace(0,0,1000),color='k', linewidth=0.6)\n",
    "plt.xlabel(\"Actual\")\n",
    "plt.ylabel(\"Residual\")"
   ]
  }
 ],
 "metadata": {
  "kernelspec": {
   "display_name": "Python 3",
   "language": "python",
   "name": "python3"
  },
  "language_info": {
   "codemirror_mode": {
    "name": "ipython",
    "version": 3
   },
   "file_extension": ".py",
   "mimetype": "text/x-python",
   "name": "python",
   "nbconvert_exporter": "python",
   "pygments_lexer": "ipython3",
   "version": "3.6.5"
  }
 },
 "nbformat": 4,
 "nbformat_minor": 2
}
