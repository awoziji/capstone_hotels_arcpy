{
 "cells": [
  {
   "cell_type": "markdown",
   "metadata": {},
   "source": [
    "# GIS Hotels Data Enrichment\n",
    "\n",
    "- **Hotel buffer**\n",
    "\n",
    "- **Hotels Airbnb around each hotel**\n",
    "    - Total number of airbnbs\n",
    "    - Average price of Airbnbs\n",
    "    - Total number of airbnb beds (accomodates field)\n",
    "\n",
    "- **Hotels Housing**\n",
    "    - Total number of houses sold during last year\n",
    "    - Median price of the house during last year\n",
    "\n",
    "- **Hotels restaurants**\n",
    "    - Total of restaurants\n",
    "    - Total of reviews of restaurants (popularity of the area)\n",
    "    - Average ranking\n",
    "    \n",
    "- **Acccessibility**\n",
    "    - Airport combined travel time (min) to: Heathrow, Gatwick, Stanstead, Luton \n",
    "    - Combined Attractions travel time (min) to 10 locations of interest (business and tourist). \n",
    "    "
   ]
  },
  {
   "cell_type": "code",
   "execution_count": 16,
   "metadata": {},
   "outputs": [],
   "source": [
    "import arcpy\n",
    "arcpy.env.overwriteOutput = True"
   ]
  },
  {
   "cell_type": "markdown",
   "metadata": {},
   "source": [
    "### Hotel Buffer"
   ]
  },
  {
   "cell_type": "code",
   "execution_count": 25,
   "metadata": {},
   "outputs": [
    {
     "data": {
      "text/plain": [
       "<Result '.\\\\Data\\\\Shapefiles\\\\hotels_buffer.shp'>"
      ]
     },
     "execution_count": 25,
     "metadata": {},
     "output_type": "execute_result"
    }
   ],
   "source": [
    "#arcpy.env.workspace = \"C:/data\"\n",
    "arcpy.env.workspace = './Data'\n",
    "\n",
    "#read the shapefile\n",
    "hotels_shp = './Data/Shapefiles/hotels.shp'\n",
    "arcpy.Buffer_analysis(hotels_shp, \"./Data/Shapefiles/hotels_buffer\", \"500 Meters\")"
   ]
  },
  {
   "cell_type": "markdown",
   "metadata": {},
   "source": [
    "### Hotel Airbnb"
   ]
  },
  {
   "cell_type": "code",
   "execution_count": 27,
   "metadata": {},
   "outputs": [
    {
     "data": {
      "text/plain": [
       "<Result '.\\\\Data\\\\Shapefiles\\\\hotels_airbnb.shp'>"
      ]
     },
     "execution_count": 27,
     "metadata": {},
     "output_type": "execute_result"
    }
   ],
   "source": [
    "#read the shapefiles\n",
    "arcpy.env.workspace = './Data/Shapefiles'\n",
    "hotels_buffer = 'hotels_buffer.shp'\n",
    "airbnb = 'airbnb.shp'\n",
    "\n",
    "#Field mappings for the different metrics we want to get.\n",
    "#More info here = 'https://pro.arcgis.com/es/pro-app/arcpy/classes/fieldmap.htm'\n",
    "#and here! : https://gis.stackexchange.com/questions/216391/setting-list-of-fields-to-field-mapping-of-spatial-join-using-arcpy\n",
    "\n",
    "#Field map with all outputs ,first we create the object\n",
    "fieldmappings = arcpy.FieldMappings()\n",
    "\n",
    "#we add all field mappings, by default the calculation is First so need to change to Median if that is what we want.\n",
    "fieldmappings.addTable(airbnb)\n",
    "fieldmappings.addTable(hotels_buffer)\n",
    "#this is how fieldmappings looks like for each variable 'Field1 \"Field1\" true true false 10 Long 0 10,First,#.....' \n",
    "\n",
    "#print(fieldmappings)\n",
    "\n",
    "#From the Airbnb table we jsut neeed:\n",
    "    #The Count (which is done automatically)\n",
    "    #Median Price\n",
    "    #Total accomodates\n",
    "\n",
    "\n",
    "interested_fields = ['index','price','accommodat']\n",
    "fields_to_delete = [f.name for f in fieldmappings.fields if f.name not in interested_fields]\n",
    "for field in fields_to_delete:\n",
    "    fieldmappings.removeFieldMap(fieldmappings.findFieldMapIndex(field))\n",
    "    \n",
    "    \n",
    "    \n",
    "#We do this manually,first we print fieldmappings and  copy paste the string \n",
    "#and change the different 'First' for the calculation we need.\n",
    "fieldmappings = 'index \"index\" true true false 10 Long 0 10,First,#,./Data/Shapefiles\\hotels_buffer.shp,index,-1,-1;accommodat \"accommodat\" true true false 10 Long 0 10,Sum,#,./Data/Shapefiles\\airbnb.shp,accommodat,-1,-1;price \"price\" true true false 10 Long 0 10,Median,#,./Data/Shapefiles\\airbnb.shp,price,-1,-1' \n",
    "\n",
    "####\n",
    "# Spatial join with Hotels\n",
    "####\n",
    "\n",
    "arcpy.SpatialJoin_analysis(target_features=hotels_buffer, join_features=airbnb,\n",
    "                           out_feature_class=r'./Data/Shapefiles/hotels_airbnb.shp',\n",
    "                           join_operation='JOIN_ONE_TO_ONE',join_type='KEEP_ALL',\n",
    "                           field_mapping=fieldmappings,match_option='COMPLETELY_CONTAINS',\n",
    "                           search_radius=None,distance_field_name=None)\n"
   ]
  },
  {
   "cell_type": "markdown",
   "metadata": {},
   "source": [
    "### Hotels Housing"
   ]
  },
  {
   "cell_type": "code",
   "execution_count": 29,
   "metadata": {},
   "outputs": [
    {
     "data": {
      "text/plain": [
       "<Result '.\\\\Data\\\\Shapefiles\\\\hotels_housing.shp'>"
      ]
     },
     "execution_count": 29,
     "metadata": {},
     "output_type": "execute_result"
    }
   ],
   "source": [
    "#read the shapefiles\n",
    "arcpy.env.workspace = './Data/Shapefiles'\n",
    "hotels_buffer = 'hotels_buffer.shp'\n",
    "housing = 'house_transactions.shp'\n",
    "\n",
    "#Field map with all outputs ,first we create the object\n",
    "fieldmappings = arcpy.FieldMappings()\n",
    "\n",
    "#we add all field mappings, by default the calculation is First so need to change to Median if that is what we want.\n",
    "fieldmappings.addTable(housing)\n",
    "fieldmappings.addTable(hotels_buffer)\n",
    "#this is how fieldmappings looks like for each variable 'Field1 \"Field1\" true true false 10 Long 0 10,First,#.....' \n",
    "\n",
    "#print(fieldmappings)\n",
    "\n",
    "#From the Airbnb table we jsut neeed:\n",
    "    #The Count (which is done automatically)\n",
    "    #Median Price\n",
    "\n",
    "\n",
    "interested_fields = ['index','Price']\n",
    "fields_to_delete = [f.name for f in fieldmappings.fields if f.name not in interested_fields]\n",
    "for field in fields_to_delete:\n",
    "    fieldmappings.removeFieldMap(fieldmappings.findFieldMapIndex(field))\n",
    "    \n",
    "    \n",
    "    \n",
    "#We do this manually,first we print fieldmappings and  copy paste the string \n",
    "#and change the different 'First' for the calculation we need.\n",
    "fieldmappings = 'index \"index\" true true false 10 Long 0 10,First,#,./Data/Shapefiles\\hotels_buffer.shp,index,-1,-1;Price \"Price\" true true false 10 Long 0 10,Median,#,./Data/Shapefiles\\house_transactions.shp,Price,-1,-1' \n",
    "\n",
    "####\n",
    "# Spatial join with Hotels\n",
    "####\n",
    "\n",
    "arcpy.SpatialJoin_analysis(target_features=hotels_buffer, join_features=housing,\n",
    "                           out_feature_class=r'./Data/Shapefiles/hotels_housing.shp',\n",
    "                           join_operation='JOIN_ONE_TO_ONE',join_type='KEEP_ALL',\n",
    "                           field_mapping=fieldmappings,match_option='COMPLETELY_CONTAINS',\n",
    "                           search_radius=None,distance_field_name=None)\n"
   ]
  },
  {
   "cell_type": "markdown",
   "metadata": {},
   "source": [
    "### Hotels Restaurants"
   ]
  },
  {
   "cell_type": "code",
   "execution_count": 32,
   "metadata": {},
   "outputs": [
    {
     "data": {
      "text/plain": [
       "<Result '.\\\\Data\\\\Shapefiles\\\\hotels_restaurants.shp'>"
      ]
     },
     "execution_count": 32,
     "metadata": {},
     "output_type": "execute_result"
    }
   ],
   "source": [
    "#read the shapefiles\n",
    "arcpy.env.workspace = './Data/Shapefiles'\n",
    "hotels_buffer = 'hotels_buffer.shp'\n",
    "restaurants = 'restaurants.shp'\n",
    "\n",
    "#Field map with all outputs ,first we create the object\n",
    "fieldmappings = arcpy.FieldMappings()\n",
    "\n",
    "#we add all field mappings, by default the calculation is First so need to change to Median if that is what we want.\n",
    "fieldmappings.addTable(restaurants)\n",
    "fieldmappings.addTable(hotels_buffer)\n",
    "#this is how fieldmappings looks like for each variable 'Field1 \"Field1\" true true false 10 Long 0 10,First,#.....' \n",
    "\n",
    "#print(fieldmappings)\n",
    "\n",
    "#From the Airbnb table we jsut neeed:\n",
    "    #The Count (which is done automatically)\n",
    "    #Total sum of reviews (popularity of the area)\n",
    "    #Average (mean) ranking (sentiment of the area)\n",
    "\n",
    "\n",
    "interested_fields = ['index','Number_of', 'Ranking']\n",
    "fields_to_delete = [f.name for f in fieldmappings.fields if f.name not in interested_fields]\n",
    "for field in fields_to_delete:\n",
    "    fieldmappings.removeFieldMap(fieldmappings.findFieldMapIndex(field))\n",
    "    \n",
    "    \n",
    "    \n",
    "#We do this manually,first we print fieldmappings and  copy paste the string \n",
    "#and change the different 'First' for the calculation we need.\n",
    "fieldmappings = 'index \"index\" true true false 10 Long 0 10,First,#,./Data/Shapefiles\\hotels_buffer.shp,index,-1,-1;Number_of \"Number_of\" true true false 10 Long 0 10,Sum,#,./Data/Shapefiles\\restaurants.shp,Number_of,-1,-1;Ranking \"Ranking\" true true false 19 Double 0 0,Mean,#,./Data/Shapefiles\\restaurants.shp,Ranking,-1,-1;' \n",
    "\n",
    "####\n",
    "# Spatial join with Hotels\n",
    "####\n",
    "\n",
    "arcpy.SpatialJoin_analysis(target_features=hotels_buffer, join_features=restaurants,\n",
    "                           out_feature_class=r'./Data/Shapefiles/hotels_restaurants.shp',\n",
    "                           join_operation='JOIN_ONE_TO_ONE',join_type='KEEP_ALL',\n",
    "                           field_mapping=fieldmappings,match_option='COMPLETELY_CONTAINS',\n",
    "                           search_radius=None,distance_field_name=None)\n"
   ]
  }
 ],
 "metadata": {
  "kernelspec": {
   "display_name": "Python 3",
   "language": "python",
   "name": "python3"
  },
  "language_info": {
   "codemirror_mode": {
    "name": "ipython",
    "version": 3
   },
   "file_extension": ".py",
   "mimetype": "text/x-python",
   "name": "python",
   "nbconvert_exporter": "python",
   "pygments_lexer": "ipython3",
   "version": "3.6.5"
  }
 },
 "nbformat": 4,
 "nbformat_minor": 2
}
